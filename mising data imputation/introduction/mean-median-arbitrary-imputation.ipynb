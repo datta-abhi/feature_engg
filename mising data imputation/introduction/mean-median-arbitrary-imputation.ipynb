{
 "cells": [
  {
   "cell_type": "code",
   "execution_count": 1,
   "id": "6970030f",
   "metadata": {},
   "outputs": [
    {
     "name": "stderr",
     "output_type": "stream",
     "text": [
      "C:\\Users\\abhid\\anaconda3\\Lib\\site-packages\\pandas\\core\\arrays\\masked.py:60: UserWarning: Pandas requires version '1.3.6' or newer of 'bottleneck' (version '1.3.5' currently installed).\n",
      "  from pandas.core import (\n"
     ]
    }
   ],
   "source": [
    "import numpy as np\n",
    "import pandas as pd\n",
    "import matplotlib.pyplot as plt\n",
    "import seaborn as sns\n",
    "\n"
   ]
  },
  {
   "cell_type": "markdown",
   "id": "09677a43",
   "metadata": {},
   "source": [
    "## Titanic Dataset"
   ]
  },
  {
   "cell_type": "code",
   "execution_count": 12,
   "id": "b68d6ade",
   "metadata": {},
   "outputs": [],
   "source": [
    "titanic = pd.read_csv(\"../../datasets/titanic.csv\")"
   ]
  },
  {
   "cell_type": "code",
   "execution_count": 13,
   "id": "c2b517ac",
   "metadata": {},
   "outputs": [
    {
     "data": {
      "text/html": [
       "<div>\n",
       "<style scoped>\n",
       "    .dataframe tbody tr th:only-of-type {\n",
       "        vertical-align: middle;\n",
       "    }\n",
       "\n",
       "    .dataframe tbody tr th {\n",
       "        vertical-align: top;\n",
       "    }\n",
       "\n",
       "    .dataframe thead th {\n",
       "        text-align: right;\n",
       "    }\n",
       "</style>\n",
       "<table border=\"1\" class=\"dataframe\">\n",
       "  <thead>\n",
       "    <tr style=\"text-align: right;\">\n",
       "      <th></th>\n",
       "      <th>survived</th>\n",
       "      <th>age</th>\n",
       "      <th>fare</th>\n",
       "    </tr>\n",
       "  </thead>\n",
       "  <tbody>\n",
       "    <tr>\n",
       "      <th>0</th>\n",
       "      <td>1</td>\n",
       "      <td>29.0000</td>\n",
       "      <td>211.3375</td>\n",
       "    </tr>\n",
       "    <tr>\n",
       "      <th>1</th>\n",
       "      <td>1</td>\n",
       "      <td>0.9167</td>\n",
       "      <td>151.5500</td>\n",
       "    </tr>\n",
       "    <tr>\n",
       "      <th>2</th>\n",
       "      <td>0</td>\n",
       "      <td>2.0000</td>\n",
       "      <td>151.5500</td>\n",
       "    </tr>\n",
       "  </tbody>\n",
       "</table>\n",
       "</div>"
      ],
      "text/plain": [
       "   survived      age      fare\n",
       "0         1  29.0000  211.3375\n",
       "1         1   0.9167  151.5500\n",
       "2         0   2.0000  151.5500"
      ]
     },
     "execution_count": 13,
     "metadata": {},
     "output_type": "execute_result"
    }
   ],
   "source": [
    "# using subset of features\n",
    "titanic = titanic[['survived','age','fare']]\n",
    "titanic.head(3)"
   ]
  },
  {
   "cell_type": "code",
   "execution_count": 14,
   "id": "4aa01559",
   "metadata": {},
   "outputs": [
    {
     "data": {
      "text/plain": [
       "survived     0.000000\n",
       "age         20.091673\n",
       "fare         0.076394\n",
       "dtype: float64"
      ]
     },
     "execution_count": 14,
     "metadata": {},
     "output_type": "execute_result"
    }
   ],
   "source": [
    "# Checking fraction of nulls\n",
    "titanic.isna().mean()*100"
   ]
  },
  {
   "cell_type": "markdown",
   "id": "40c98325",
   "metadata": {},
   "source": [
    "Missing values present in Age and Fare columns"
   ]
  },
  {
   "cell_type": "markdown",
   "id": "998333bb",
   "metadata": {},
   "source": [
    "## Train and test sets"
   ]
  },
  {
   "cell_type": "code",
   "execution_count": 15,
   "id": "c868a696",
   "metadata": {},
   "outputs": [
    {
     "data": {
      "text/plain": [
       "(((877, 2), (877,)), ((432, 2), (432,)))"
      ]
     },
     "execution_count": 15,
     "metadata": {},
     "output_type": "execute_result"
    }
   ],
   "source": [
    "from sklearn.model_selection import train_test_split\n",
    "X_train,X_test,y_train,y_test = train_test_split(titanic[['age','fare']],\n",
    "                                                titanic['survived'],\n",
    "                                                test_size = 0.33,\n",
    "                                                random_state = 28)\n",
    "\n",
    "(X_train.shape,y_train.shape), (X_test.shape,y_test.shape)"
   ]
  },
  {
   "cell_type": "code",
   "execution_count": 16,
   "id": "f64f96dc",
   "metadata": {},
   "outputs": [
    {
     "data": {
      "text/plain": [
       "age     19.95439\n",
       "fare     0.00000\n",
       "dtype: float64"
      ]
     },
     "execution_count": 16,
     "metadata": {},
     "output_type": "execute_result"
    }
   ],
   "source": [
    "# Checking fraction of nulls in Train set.\n",
    "# should be similar to overall nulls for representative split\n",
    "X_train.isna().mean()*100"
   ]
  },
  {
   "cell_type": "markdown",
   "id": "4d3022f1",
   "metadata": {},
   "source": [
    "### Finding the median age and fare values for imputation"
   ]
  },
  {
   "cell_type": "code",
   "execution_count": 18,
   "id": "c805ad0f",
   "metadata": {},
   "outputs": [
    {
     "name": "stdout",
     "output_type": "stream",
     "text": [
      "Median age:  28.0\n",
      "Median fare:  13.9\n"
     ]
    }
   ],
   "source": [
    "age_median = X_train['age'].median()\n",
    "fare_median = X_train['fare'].median()\n",
    "print('Median age: ',age_median)\n",
    "print('Median fare: ',fare_median)\n",
    "\n",
    "# imputing the nulls in Train and Test sets\n",
    "imputation_dict = {'age': age_median,\n",
    "                  'fare': fare_median}\n",
    "\n",
    "X_train_imputed = X_train.fillna(imputation_dict)\n",
    "X_test_imputed = X_test.fillna(imputation_dict)"
   ]
  },
  {
   "cell_type": "code",
   "execution_count": 23,
   "id": "35aaaaaa",
   "metadata": {},
   "outputs": [
    {
     "data": {
      "text/html": [
       "<div>\n",
       "<style scoped>\n",
       "    .dataframe tbody tr th:only-of-type {\n",
       "        vertical-align: middle;\n",
       "    }\n",
       "\n",
       "    .dataframe tbody tr th {\n",
       "        vertical-align: top;\n",
       "    }\n",
       "\n",
       "    .dataframe thead th {\n",
       "        text-align: right;\n",
       "    }\n",
       "</style>\n",
       "<table border=\"1\" class=\"dataframe\">\n",
       "  <thead>\n",
       "    <tr style=\"text-align: right;\">\n",
       "      <th></th>\n",
       "      <th>age</th>\n",
       "      <th>fare</th>\n",
       "      <th>age</th>\n",
       "      <th>fare</th>\n",
       "    </tr>\n",
       "  </thead>\n",
       "  <tbody>\n",
       "    <tr>\n",
       "      <th>1030</th>\n",
       "      <td>NaN</td>\n",
       "      <td>8.4583</td>\n",
       "      <td>28.0</td>\n",
       "      <td>8.4583</td>\n",
       "    </tr>\n",
       "    <tr>\n",
       "      <th>41</th>\n",
       "      <td>44.0</td>\n",
       "      <td>27.7208</td>\n",
       "      <td>44.0</td>\n",
       "      <td>27.7208</td>\n",
       "    </tr>\n",
       "    <tr>\n",
       "      <th>802</th>\n",
       "      <td>NaN</td>\n",
       "      <td>6.9500</td>\n",
       "      <td>28.0</td>\n",
       "      <td>6.9500</td>\n",
       "    </tr>\n",
       "    <tr>\n",
       "      <th>1203</th>\n",
       "      <td>40.0</td>\n",
       "      <td>7.8958</td>\n",
       "      <td>40.0</td>\n",
       "      <td>7.8958</td>\n",
       "    </tr>\n",
       "    <tr>\n",
       "      <th>458</th>\n",
       "      <td>17.0</td>\n",
       "      <td>10.5000</td>\n",
       "      <td>17.0</td>\n",
       "      <td>10.5000</td>\n",
       "    </tr>\n",
       "    <tr>\n",
       "      <th>1214</th>\n",
       "      <td>NaN</td>\n",
       "      <td>8.6625</td>\n",
       "      <td>28.0</td>\n",
       "      <td>8.6625</td>\n",
       "    </tr>\n",
       "    <tr>\n",
       "      <th>916</th>\n",
       "      <td>4.0</td>\n",
       "      <td>13.4167</td>\n",
       "      <td>4.0</td>\n",
       "      <td>13.4167</td>\n",
       "    </tr>\n",
       "    <tr>\n",
       "      <th>790</th>\n",
       "      <td>39.0</td>\n",
       "      <td>7.2292</td>\n",
       "      <td>39.0</td>\n",
       "      <td>7.2292</td>\n",
       "    </tr>\n",
       "    <tr>\n",
       "      <th>277</th>\n",
       "      <td>NaN</td>\n",
       "      <td>146.5208</td>\n",
       "      <td>28.0</td>\n",
       "      <td>146.5208</td>\n",
       "    </tr>\n",
       "    <tr>\n",
       "      <th>801</th>\n",
       "      <td>NaN</td>\n",
       "      <td>7.7500</td>\n",
       "      <td>28.0</td>\n",
       "      <td>7.7500</td>\n",
       "    </tr>\n",
       "    <tr>\n",
       "      <th>742</th>\n",
       "      <td>45.0</td>\n",
       "      <td>8.0500</td>\n",
       "      <td>45.0</td>\n",
       "      <td>8.0500</td>\n",
       "    </tr>\n",
       "    <tr>\n",
       "      <th>512</th>\n",
       "      <td>32.5</td>\n",
       "      <td>30.0708</td>\n",
       "      <td>32.5</td>\n",
       "      <td>30.0708</td>\n",
       "    </tr>\n",
       "    <tr>\n",
       "      <th>630</th>\n",
       "      <td>27.0</td>\n",
       "      <td>7.7958</td>\n",
       "      <td>27.0</td>\n",
       "      <td>7.7958</td>\n",
       "    </tr>\n",
       "    <tr>\n",
       "      <th>795</th>\n",
       "      <td>NaN</td>\n",
       "      <td>7.2250</td>\n",
       "      <td>28.0</td>\n",
       "      <td>7.2250</td>\n",
       "    </tr>\n",
       "    <tr>\n",
       "      <th>783</th>\n",
       "      <td>24.0</td>\n",
       "      <td>7.5500</td>\n",
       "      <td>24.0</td>\n",
       "      <td>7.5500</td>\n",
       "    </tr>\n",
       "    <tr>\n",
       "      <th>697</th>\n",
       "      <td>30.0</td>\n",
       "      <td>8.6625</td>\n",
       "      <td>30.0</td>\n",
       "      <td>8.6625</td>\n",
       "    </tr>\n",
       "    <tr>\n",
       "      <th>839</th>\n",
       "      <td>19.0</td>\n",
       "      <td>7.7750</td>\n",
       "      <td>19.0</td>\n",
       "      <td>7.7750</td>\n",
       "    </tr>\n",
       "    <tr>\n",
       "      <th>421</th>\n",
       "      <td>24.0</td>\n",
       "      <td>13.5000</td>\n",
       "      <td>24.0</td>\n",
       "      <td>13.5000</td>\n",
       "    </tr>\n",
       "    <tr>\n",
       "      <th>951</th>\n",
       "      <td>29.0</td>\n",
       "      <td>7.7750</td>\n",
       "      <td>29.0</td>\n",
       "      <td>7.7750</td>\n",
       "    </tr>\n",
       "    <tr>\n",
       "      <th>1252</th>\n",
       "      <td>44.0</td>\n",
       "      <td>8.0500</td>\n",
       "      <td>44.0</td>\n",
       "      <td>8.0500</td>\n",
       "    </tr>\n",
       "  </tbody>\n",
       "</table>\n",
       "</div>"
      ],
      "text/plain": [
       "       age      fare   age      fare\n",
       "1030   NaN    8.4583  28.0    8.4583\n",
       "41    44.0   27.7208  44.0   27.7208\n",
       "802    NaN    6.9500  28.0    6.9500\n",
       "1203  40.0    7.8958  40.0    7.8958\n",
       "458   17.0   10.5000  17.0   10.5000\n",
       "1214   NaN    8.6625  28.0    8.6625\n",
       "916    4.0   13.4167   4.0   13.4167\n",
       "790   39.0    7.2292  39.0    7.2292\n",
       "277    NaN  146.5208  28.0  146.5208\n",
       "801    NaN    7.7500  28.0    7.7500\n",
       "742   45.0    8.0500  45.0    8.0500\n",
       "512   32.5   30.0708  32.5   30.0708\n",
       "630   27.0    7.7958  27.0    7.7958\n",
       "795    NaN    7.2250  28.0    7.2250\n",
       "783   24.0    7.5500  24.0    7.5500\n",
       "697   30.0    8.6625  30.0    8.6625\n",
       "839   19.0    7.7750  19.0    7.7750\n",
       "421   24.0   13.5000  24.0   13.5000\n",
       "951   29.0    7.7750  29.0    7.7750\n",
       "1252  44.0    8.0500  44.0    8.0500"
      ]
     },
     "execution_count": 23,
     "metadata": {},
     "output_type": "execute_result"
    }
   ],
   "source": [
    "pd.concat([X_test,X_test_imputed],axis = 1).sample(20)"
   ]
  },
  {
   "cell_type": "markdown",
   "id": "6abda3a9",
   "metadata": {},
   "source": [
    "## Effect of imputation on mean and variance"
   ]
  },
  {
   "cell_type": "code",
   "execution_count": 27,
   "id": "be34ea8e",
   "metadata": {},
   "outputs": [
    {
     "name": "stdout",
     "output_type": "stream",
     "text": [
      "Before Imputation: Mean is 29.77480997150997 and Var is 207.87249700457946\n",
      "Before Imputation: Mean is 29.420657468643103 and Var is 166.84916082473012\n"
     ]
    }
   ],
   "source": [
    "print(\"Before Imputation: Mean is {} and Var is {}\".format(X_train['age'].mean(),X_train['age'].var()))\n",
    "print(\"Before Imputation: Mean is {} and Var is {}\".format(X_train_imputed['age'].mean(),X_train_imputed['age'].var()))"
   ]
  },
  {
   "cell_type": "markdown",
   "id": "c7806d0c",
   "metadata": {},
   "source": [
    "Since median imputation brings values closer to mean/median , reducing the overall variance"
   ]
  },
  {
   "cell_type": "code",
   "execution_count": 30,
   "id": "01b77eb4",
   "metadata": {},
   "outputs": [
    {
     "name": "stderr",
     "output_type": "stream",
     "text": [
      "C:\\Users\\abhid\\anaconda3\\Lib\\site-packages\\seaborn\\_oldcore.py:1119: FutureWarning: use_inf_as_na option is deprecated and will be removed in a future version. Convert inf values to NaN before operating instead.\n",
      "  with pd.option_context('mode.use_inf_as_na', True):\n",
      "C:\\Users\\abhid\\anaconda3\\Lib\\site-packages\\seaborn\\_oldcore.py:1119: FutureWarning: use_inf_as_na option is deprecated and will be removed in a future version. Convert inf values to NaN before operating instead.\n",
      "  with pd.option_context('mode.use_inf_as_na', True):\n"
     ]
    },
    {
     "data": {
      "text/plain": [
       "<matplotlib.legend.Legend at 0x211fdd57210>"
      ]
     },
     "execution_count": 30,
     "metadata": {},
     "output_type": "execute_result"
    },
    {
     "data": {
      "image/png": "[encoded data removed]",
      "text/plain": [
       "<Figure size 640x480 with 1 Axes>"
      ]
     },
     "metadata": {},
     "output_type": "display_data"
    }
   ],
   "source": [
    "sns.kdeplot(X_train['age'], label = 'original Age')\n",
    "sns.kdeplot(X_train_imputed['age'], label = 'Imputed Age')\n",
    "plt.legend()"
   ]
  },
  {
   "cell_type": "markdown",
   "id": "58fdaa08",
   "metadata": {},
   "source": [
    "## Arbitrary value imputation"
   ]
  },
  {
   "cell_type": "markdown",
   "id": "40812c94",
   "metadata": {},
   "source": [
    "We'll impute age with arbitrary values significantly different from the rest of the observations."
   ]
  },
  {
   "cell_type": "code",
   "execution_count": 31,
   "id": "a81b7e35",
   "metadata": {},
   "outputs": [
    {
     "data": {
      "text/plain": [
       "count    1046.000000\n",
       "mean       29.881135\n",
       "std        14.413500\n",
       "min         0.166700\n",
       "25%        21.000000\n",
       "50%        28.000000\n",
       "75%        39.000000\n",
       "max        80.000000\n",
       "Name: age, dtype: float64"
      ]
     },
     "execution_count": 31,
     "metadata": {},
     "output_type": "execute_result"
    }
   ],
   "source": [
    "titanic['age'].describe()"
   ]
  },
  {
   "cell_type": "code",
   "execution_count": 32,
   "id": "e806b806",
   "metadata": {},
   "outputs": [],
   "source": [
    "X_train['age_99'] = X_train['age'].fillna(99)\n",
    "X_train['age_minus1'] = X_train['age'].fillna(-1)"
   ]
  },
  {
   "cell_type": "code",
   "execution_count": 35,
   "id": "562962be",
   "metadata": {},
   "outputs": [],
   "source": [
    "X_train['age_median'] = X_train_imputed['age']"
   ]
  },
  {
   "cell_type": "code",
   "execution_count": 38,
   "id": "c508ce28",
   "metadata": {},
   "outputs": [
    {
     "data": {
      "text/html": [
       "<div>\n",
       "<style scoped>\n",
       "    .dataframe tbody tr th:only-of-type {\n",
       "        vertical-align: middle;\n",
       "    }\n",
       "\n",
       "    .dataframe tbody tr th {\n",
       "        vertical-align: top;\n",
       "    }\n",
       "\n",
       "    .dataframe thead th {\n",
       "        text-align: right;\n",
       "    }\n",
       "</style>\n",
       "<table border=\"1\" class=\"dataframe\">\n",
       "  <thead>\n",
       "    <tr style=\"text-align: right;\">\n",
       "      <th></th>\n",
       "      <th>age</th>\n",
       "      <th>fare</th>\n",
       "      <th>age_99</th>\n",
       "      <th>age_minus1</th>\n",
       "      <th>age_median</th>\n",
       "    </tr>\n",
       "  </thead>\n",
       "  <tbody>\n",
       "    <tr>\n",
       "      <th>1177</th>\n",
       "      <td>NaN</td>\n",
       "      <td>69.5500</td>\n",
       "      <td>99.0</td>\n",
       "      <td>-1.0</td>\n",
       "      <td>28.0</td>\n",
       "    </tr>\n",
       "    <tr>\n",
       "      <th>335</th>\n",
       "      <td>51.0</td>\n",
       "      <td>12.5250</td>\n",
       "      <td>51.0</td>\n",
       "      <td>51.0</td>\n",
       "      <td>51.0</td>\n",
       "    </tr>\n",
       "    <tr>\n",
       "      <th>1166</th>\n",
       "      <td>NaN</td>\n",
       "      <td>7.2250</td>\n",
       "      <td>99.0</td>\n",
       "      <td>-1.0</td>\n",
       "      <td>28.0</td>\n",
       "    </tr>\n",
       "    <tr>\n",
       "      <th>271</th>\n",
       "      <td>24.0</td>\n",
       "      <td>82.2667</td>\n",
       "      <td>24.0</td>\n",
       "      <td>24.0</td>\n",
       "      <td>24.0</td>\n",
       "    </tr>\n",
       "    <tr>\n",
       "      <th>349</th>\n",
       "      <td>24.0</td>\n",
       "      <td>13.0000</td>\n",
       "      <td>24.0</td>\n",
       "      <td>24.0</td>\n",
       "      <td>24.0</td>\n",
       "    </tr>\n",
       "    <tr>\n",
       "      <th>523</th>\n",
       "      <td>22.0</td>\n",
       "      <td>10.5000</td>\n",
       "      <td>22.0</td>\n",
       "      <td>22.0</td>\n",
       "      <td>22.0</td>\n",
       "    </tr>\n",
       "    <tr>\n",
       "      <th>725</th>\n",
       "      <td>22.0</td>\n",
       "      <td>7.7500</td>\n",
       "      <td>22.0</td>\n",
       "      <td>22.0</td>\n",
       "      <td>22.0</td>\n",
       "    </tr>\n",
       "    <tr>\n",
       "      <th>112</th>\n",
       "      <td>28.0</td>\n",
       "      <td>263.0000</td>\n",
       "      <td>28.0</td>\n",
       "      <td>28.0</td>\n",
       "      <td>28.0</td>\n",
       "    </tr>\n",
       "    <tr>\n",
       "      <th>736</th>\n",
       "      <td>59.0</td>\n",
       "      <td>7.2500</td>\n",
       "      <td>59.0</td>\n",
       "      <td>59.0</td>\n",
       "      <td>59.0</td>\n",
       "    </tr>\n",
       "    <tr>\n",
       "      <th>744</th>\n",
       "      <td>19.0</td>\n",
       "      <td>10.1708</td>\n",
       "      <td>19.0</td>\n",
       "      <td>19.0</td>\n",
       "      <td>19.0</td>\n",
       "    </tr>\n",
       "  </tbody>\n",
       "</table>\n",
       "</div>"
      ],
      "text/plain": [
       "       age      fare  age_99  age_minus1  age_median\n",
       "1177   NaN   69.5500    99.0        -1.0        28.0\n",
       "335   51.0   12.5250    51.0        51.0        51.0\n",
       "1166   NaN    7.2250    99.0        -1.0        28.0\n",
       "271   24.0   82.2667    24.0        24.0        24.0\n",
       "349   24.0   13.0000    24.0        24.0        24.0\n",
       "523   22.0   10.5000    22.0        22.0        22.0\n",
       "725   22.0    7.7500    22.0        22.0        22.0\n",
       "112   28.0  263.0000    28.0        28.0        28.0\n",
       "736   59.0    7.2500    59.0        59.0        59.0\n",
       "744   19.0   10.1708    19.0        19.0        19.0"
      ]
     },
     "execution_count": 38,
     "metadata": {},
     "output_type": "execute_result"
    }
   ],
   "source": [
    "X_train.sample(10)"
   ]
  },
  {
   "cell_type": "markdown",
   "id": "8901fd52",
   "metadata": {},
   "source": [
    "### Change in distribution due to imputations"
   ]
  },
  {
   "cell_type": "code",
   "execution_count": 43,
   "id": "f3adeda1",
   "metadata": {},
   "outputs": [
    {
     "name": "stderr",
     "output_type": "stream",
     "text": [
      "C:\\Users\\abhid\\anaconda3\\Lib\\site-packages\\seaborn\\_oldcore.py:1119: FutureWarning: use_inf_as_na option is deprecated and will be removed in a future version. Convert inf values to NaN before operating instead.\n",
      "  with pd.option_context('mode.use_inf_as_na', True):\n",
      "C:\\Users\\abhid\\anaconda3\\Lib\\site-packages\\seaborn\\_oldcore.py:1119: FutureWarning: use_inf_as_na option is deprecated and will be removed in a future version. Convert inf values to NaN before operating instead.\n",
      "  with pd.option_context('mode.use_inf_as_na', True):\n",
      "C:\\Users\\abhid\\anaconda3\\Lib\\site-packages\\seaborn\\_oldcore.py:1119: FutureWarning: use_inf_as_na option is deprecated and will be removed in a future version. Convert inf values to NaN before operating instead.\n",
      "  with pd.option_context('mode.use_inf_as_na', True):\n",
      "C:\\Users\\abhid\\anaconda3\\Lib\\site-packages\\seaborn\\_oldcore.py:1119: FutureWarning: use_inf_as_na option is deprecated and will be removed in a future version. Convert inf values to NaN before operating instead.\n",
      "  with pd.option_context('mode.use_inf_as_na', True):\n"
     ]
    },
    {
     "data": {
      "text/plain": [
       "<matplotlib.legend.Legend at 0x21181c5e990>"
      ]
     },
     "execution_count": 43,
     "metadata": {},
     "output_type": "execute_result"
    },
    {
     "data": {
      "image/png": "[encoded data removed]",
      "text/plain": [
       "<Figure size 640x480 with 1 Axes>"
      ]
     },
     "metadata": {},
     "output_type": "display_data"
    }
   ],
   "source": [
    "sns.kdeplot(X_train['age'], label = 'original Age',c = 'black',lw = 3)\n",
    "sns.kdeplot(X_train['age_median'], label = 'Median imputed')\n",
    "sns.kdeplot(X_train['age_99'], label = '99 imputed')\n",
    "sns.kdeplot(X_train['age_minus1'], label = '-1 imputed')\n",
    "plt.legend()"
   ]
  },
  {
   "cell_type": "markdown",
   "id": "01cd5dd8",
   "metadata": {},
   "source": [
    "As expected ,  \n",
    "median imputation make high density towards the mean of the data,  \n",
    "-1 imputation gives high denity towards -1,  \n",
    "99 imputation gives high density towrds 99"
   ]
  },
  {
   "cell_type": "code",
   "execution_count": 44,
   "id": "15d66aa6",
   "metadata": {},
   "outputs": [
    {
     "data": {
      "text/plain": [
       "<Axes: >"
      ]
     },
     "execution_count": 44,
     "metadata": {},
     "output_type": "execute_result"
    },
    {
     "data": {
      "image/png": "[encoded data removed]",
      "text/plain": [
       "<Figure size 640x480 with 1 Axes>"
      ]
     },
     "metadata": {},
     "output_type": "display_data"
    }
   ],
   "source": [
    "sns.boxplot(X_train[['age','age_median','age_99','age_minus1']])"
   ]
  },
  {
   "cell_type": "markdown",
   "id": "9e0a9759",
   "metadata": {},
   "source": [
    "# Housing prices Dataset"
   ]
  },
  {
   "cell_type": "code",
   "execution_count": 59,
   "id": "b17db148",
   "metadata": {},
   "outputs": [
    {
     "name": "stdout",
     "output_type": "stream",
     "text": [
      "(1460, 10)\n"
     ]
    },
    {
     "data": {
      "text/html": [
       "<div>\n",
       "<style scoped>\n",
       "    .dataframe tbody tr th:only-of-type {\n",
       "        vertical-align: middle;\n",
       "    }\n",
       "\n",
       "    .dataframe tbody tr th {\n",
       "        vertical-align: top;\n",
       "    }\n",
       "\n",
       "    .dataframe thead th {\n",
       "        text-align: right;\n",
       "    }\n",
       "</style>\n",
       "<table border=\"1\" class=\"dataframe\">\n",
       "  <thead>\n",
       "    <tr style=\"text-align: right;\">\n",
       "      <th></th>\n",
       "      <th>LotFrontage</th>\n",
       "      <th>OverallQual</th>\n",
       "      <th>MasVnrArea</th>\n",
       "      <th>BsmtUnfSF</th>\n",
       "      <th>TotalBsmtSF</th>\n",
       "      <th>1stFlrSF</th>\n",
       "      <th>GrLivArea</th>\n",
       "      <th>GarageYrBlt</th>\n",
       "      <th>WoodDeckSF</th>\n",
       "      <th>SalePrice</th>\n",
       "    </tr>\n",
       "  </thead>\n",
       "  <tbody>\n",
       "    <tr>\n",
       "      <th>0</th>\n",
       "      <td>65.0</td>\n",
       "      <td>7</td>\n",
       "      <td>196.0</td>\n",
       "      <td>150</td>\n",
       "      <td>856</td>\n",
       "      <td>856</td>\n",
       "      <td>1710</td>\n",
       "      <td>2003.0</td>\n",
       "      <td>0</td>\n",
       "      <td>208500</td>\n",
       "    </tr>\n",
       "    <tr>\n",
       "      <th>1</th>\n",
       "      <td>80.0</td>\n",
       "      <td>6</td>\n",
       "      <td>0.0</td>\n",
       "      <td>284</td>\n",
       "      <td>1262</td>\n",
       "      <td>1262</td>\n",
       "      <td>1262</td>\n",
       "      <td>1976.0</td>\n",
       "      <td>298</td>\n",
       "      <td>181500</td>\n",
       "    </tr>\n",
       "    <tr>\n",
       "      <th>2</th>\n",
       "      <td>68.0</td>\n",
       "      <td>7</td>\n",
       "      <td>162.0</td>\n",
       "      <td>434</td>\n",
       "      <td>920</td>\n",
       "      <td>920</td>\n",
       "      <td>1786</td>\n",
       "      <td>2001.0</td>\n",
       "      <td>0</td>\n",
       "      <td>223500</td>\n",
       "    </tr>\n",
       "    <tr>\n",
       "      <th>3</th>\n",
       "      <td>60.0</td>\n",
       "      <td>7</td>\n",
       "      <td>0.0</td>\n",
       "      <td>540</td>\n",
       "      <td>756</td>\n",
       "      <td>961</td>\n",
       "      <td>1717</td>\n",
       "      <td>1998.0</td>\n",
       "      <td>0</td>\n",
       "      <td>140000</td>\n",
       "    </tr>\n",
       "  </tbody>\n",
       "</table>\n",
       "</div>"
      ],
      "text/plain": [
       "   LotFrontage  OverallQual  MasVnrArea  BsmtUnfSF  TotalBsmtSF  1stFlrSF  \\\n",
       "0         65.0            7       196.0        150          856       856   \n",
       "1         80.0            6         0.0        284         1262      1262   \n",
       "2         68.0            7       162.0        434          920       920   \n",
       "3         60.0            7         0.0        540          756       961   \n",
       "\n",
       "   GrLivArea  GarageYrBlt  WoodDeckSF  SalePrice  \n",
       "0       1710       2003.0           0     208500  \n",
       "1       1262       1976.0         298     181500  \n",
       "2       1786       2001.0           0     223500  \n",
       "3       1717       1998.0           0     140000  "
      ]
     },
     "execution_count": 59,
     "metadata": {},
     "output_type": "execute_result"
    }
   ],
   "source": [
    "cols_to_use = [\n",
    "    \"OverallQual\",\n",
    "    \"TotalBsmtSF\",\n",
    "    \"1stFlrSF\",\n",
    "    \"GrLivArea\",\n",
    "    \"WoodDeckSF\",\n",
    "    \"BsmtUnfSF\",\n",
    "    \"LotFrontage\",\n",
    "    \"MasVnrArea\",\n",
    "    \"GarageYrBlt\",\n",
    "    \"SalePrice\",\n",
    "]\n",
    "\n",
    "housing = pd.read_csv('../../datasets/housing_prices.csv',usecols=cols_to_use)\n",
    "print(housing.shape)\n",
    "housing.head(4)"
   ]
  },
  {
   "cell_type": "code",
   "execution_count": 60,
   "id": "ac5f775e",
   "metadata": {},
   "outputs": [
    {
     "data": {
      "text/plain": [
       "LotFrontage    17.739726\n",
       "OverallQual     0.000000\n",
       "MasVnrArea      0.547945\n",
       "BsmtUnfSF       0.000000\n",
       "TotalBsmtSF     0.000000\n",
       "1stFlrSF        0.000000\n",
       "GrLivArea       0.000000\n",
       "GarageYrBlt     5.547945\n",
       "WoodDeckSF      0.000000\n",
       "SalePrice       0.000000\n",
       "dtype: float64"
      ]
     },
     "execution_count": 60,
     "metadata": {},
     "output_type": "execute_result"
    }
   ],
   "source": [
    "housing.isna().mean()*100"
   ]
  },
  {
   "cell_type": "code",
   "execution_count": 61,
   "id": "76a1546b",
   "metadata": {},
   "outputs": [
    {
     "name": "stdout",
     "output_type": "stream",
     "text": [
      "['LotFrontage', 'MasVnrArea', 'GarageYrBlt']\n"
     ]
    }
   ],
   "source": [
    "na_cols = [col for col in cols_to_use if housing[col].isna().sum()>0]\n",
    "print(na_cols)"
   ]
  },
  {
   "cell_type": "markdown",
   "id": "6da47e0b",
   "metadata": {},
   "source": [
    "### Train and test Datasets of Housing data"
   ]
  },
  {
   "cell_type": "code",
   "execution_count": 62,
   "id": "9ff17ead",
   "metadata": {},
   "outputs": [
    {
     "data": {
      "text/plain": [
       "(((1022, 9), (1022,)), ((438, 9), (438,)))"
      ]
     },
     "execution_count": 62,
     "metadata": {},
     "output_type": "execute_result"
    }
   ],
   "source": [
    "from sklearn.model_selection import train_test_split\n",
    "X_train,X_test,y_train,y_test = train_test_split(housing.drop(columns='SalePrice'),\n",
    "                                                housing['SalePrice'],\n",
    "                                                test_size = 0.3,\n",
    "                                                random_state = 28)\n",
    "\n",
    "(X_train.shape,y_train.shape), (X_test.shape,y_test.shape)"
   ]
  },
  {
   "cell_type": "markdown",
   "id": "c8966f4d",
   "metadata": {},
   "source": [
    "### Median Imputation of na_cols"
   ]
  },
  {
   "cell_type": "code",
   "execution_count": 63,
   "id": "45abfa03",
   "metadata": {},
   "outputs": [
    {
     "name": "stdout",
     "output_type": "stream",
     "text": [
      "{'LotFrontage': 69.0, 'MasVnrArea': 0.0, 'GarageYrBlt': 1980.0}\n"
     ]
    }
   ],
   "source": [
    "# creating a dict out of median values of na columns\n",
    "imputation_dict = housing[na_cols].median().to_dict()\n",
    "print(imputation_dict)\n",
    "\n",
    "for col in na_cols:\n",
    "    X_train[f'{col}_median'] = X_train[col].fillna(imputation_dict[col])\n",
    "    X_test[f'{col}_median'] = X_test[col].fillna(imputation_dict[col])"
   ]
  },
  {
   "cell_type": "code",
   "execution_count": 65,
   "id": "83ed4fe1",
   "metadata": {},
   "outputs": [
    {
     "data": {
      "text/html": [
       "<div>\n",
       "<style scoped>\n",
       "    .dataframe tbody tr th:only-of-type {\n",
       "        vertical-align: middle;\n",
       "    }\n",
       "\n",
       "    .dataframe tbody tr th {\n",
       "        vertical-align: top;\n",
       "    }\n",
       "\n",
       "    .dataframe thead th {\n",
       "        text-align: right;\n",
       "    }\n",
       "</style>\n",
       "<table border=\"1\" class=\"dataframe\">\n",
       "  <thead>\n",
       "    <tr style=\"text-align: right;\">\n",
       "      <th></th>\n",
       "      <th>LotFrontage</th>\n",
       "      <th>OverallQual</th>\n",
       "      <th>MasVnrArea</th>\n",
       "      <th>BsmtUnfSF</th>\n",
       "      <th>TotalBsmtSF</th>\n",
       "      <th>1stFlrSF</th>\n",
       "      <th>GrLivArea</th>\n",
       "      <th>GarageYrBlt</th>\n",
       "      <th>WoodDeckSF</th>\n",
       "      <th>LotFrontage_median</th>\n",
       "      <th>MasVnrArea_median</th>\n",
       "      <th>GarageYrBlt_median</th>\n",
       "    </tr>\n",
       "  </thead>\n",
       "  <tbody>\n",
       "    <tr>\n",
       "      <th>592</th>\n",
       "      <td>60.0</td>\n",
       "      <td>5</td>\n",
       "      <td>0.0</td>\n",
       "      <td>0</td>\n",
       "      <td>816</td>\n",
       "      <td>816</td>\n",
       "      <td>816</td>\n",
       "      <td>1985.0</td>\n",
       "      <td>0</td>\n",
       "      <td>60.0</td>\n",
       "      <td>0.0</td>\n",
       "      <td>1985.0</td>\n",
       "    </tr>\n",
       "    <tr>\n",
       "      <th>596</th>\n",
       "      <td>60.0</td>\n",
       "      <td>6</td>\n",
       "      <td>0.0</td>\n",
       "      <td>684</td>\n",
       "      <td>684</td>\n",
       "      <td>684</td>\n",
       "      <td>1368</td>\n",
       "      <td>1930.0</td>\n",
       "      <td>0</td>\n",
       "      <td>60.0</td>\n",
       "      <td>0.0</td>\n",
       "      <td>1930.0</td>\n",
       "    </tr>\n",
       "    <tr>\n",
       "      <th>537</th>\n",
       "      <td>NaN</td>\n",
       "      <td>4</td>\n",
       "      <td>0.0</td>\n",
       "      <td>264</td>\n",
       "      <td>864</td>\n",
       "      <td>864</td>\n",
       "      <td>864</td>\n",
       "      <td>1980.0</td>\n",
       "      <td>216</td>\n",
       "      <td>69.0</td>\n",
       "      <td>0.0</td>\n",
       "      <td>1980.0</td>\n",
       "    </tr>\n",
       "    <tr>\n",
       "      <th>934</th>\n",
       "      <td>313.0</td>\n",
       "      <td>7</td>\n",
       "      <td>0.0</td>\n",
       "      <td>160</td>\n",
       "      <td>585</td>\n",
       "      <td>2069</td>\n",
       "      <td>2069</td>\n",
       "      <td>1960.0</td>\n",
       "      <td>0</td>\n",
       "      <td>313.0</td>\n",
       "      <td>0.0</td>\n",
       "      <td>1960.0</td>\n",
       "    </tr>\n",
       "    <tr>\n",
       "      <th>724</th>\n",
       "      <td>86.0</td>\n",
       "      <td>9</td>\n",
       "      <td>340.0</td>\n",
       "      <td>464</td>\n",
       "      <td>1698</td>\n",
       "      <td>1698</td>\n",
       "      <td>1698</td>\n",
       "      <td>2007.0</td>\n",
       "      <td>327</td>\n",
       "      <td>86.0</td>\n",
       "      <td>340.0</td>\n",
       "      <td>2007.0</td>\n",
       "    </tr>\n",
       "    <tr>\n",
       "      <th>521</th>\n",
       "      <td>90.0</td>\n",
       "      <td>6</td>\n",
       "      <td>0.0</td>\n",
       "      <td>467</td>\n",
       "      <td>1244</td>\n",
       "      <td>1244</td>\n",
       "      <td>1244</td>\n",
       "      <td>1957.0</td>\n",
       "      <td>0</td>\n",
       "      <td>90.0</td>\n",
       "      <td>0.0</td>\n",
       "      <td>1957.0</td>\n",
       "    </tr>\n",
       "    <tr>\n",
       "      <th>1175</th>\n",
       "      <td>85.0</td>\n",
       "      <td>8</td>\n",
       "      <td>337.0</td>\n",
       "      <td>983</td>\n",
       "      <td>1683</td>\n",
       "      <td>2129</td>\n",
       "      <td>2872</td>\n",
       "      <td>1992.0</td>\n",
       "      <td>0</td>\n",
       "      <td>85.0</td>\n",
       "      <td>337.0</td>\n",
       "      <td>1992.0</td>\n",
       "    </tr>\n",
       "    <tr>\n",
       "      <th>286</th>\n",
       "      <td>77.0</td>\n",
       "      <td>6</td>\n",
       "      <td>0.0</td>\n",
       "      <td>312</td>\n",
       "      <td>912</td>\n",
       "      <td>1085</td>\n",
       "      <td>1734</td>\n",
       "      <td>1962.0</td>\n",
       "      <td>0</td>\n",
       "      <td>77.0</td>\n",
       "      <td>0.0</td>\n",
       "      <td>1962.0</td>\n",
       "    </tr>\n",
       "    <tr>\n",
       "      <th>881</th>\n",
       "      <td>44.0</td>\n",
       "      <td>7</td>\n",
       "      <td>117.0</td>\n",
       "      <td>254</td>\n",
       "      <td>1156</td>\n",
       "      <td>1187</td>\n",
       "      <td>1717</td>\n",
       "      <td>1990.0</td>\n",
       "      <td>168</td>\n",
       "      <td>44.0</td>\n",
       "      <td>117.0</td>\n",
       "      <td>1990.0</td>\n",
       "    </tr>\n",
       "    <tr>\n",
       "      <th>344</th>\n",
       "      <td>36.0</td>\n",
       "      <td>5</td>\n",
       "      <td>0.0</td>\n",
       "      <td>175</td>\n",
       "      <td>536</td>\n",
       "      <td>536</td>\n",
       "      <td>1112</td>\n",
       "      <td>1976.0</td>\n",
       "      <td>182</td>\n",
       "      <td>36.0</td>\n",
       "      <td>0.0</td>\n",
       "      <td>1976.0</td>\n",
       "    </tr>\n",
       "  </tbody>\n",
       "</table>\n",
       "</div>"
      ],
      "text/plain": [
       "      LotFrontage  OverallQual  MasVnrArea  BsmtUnfSF  TotalBsmtSF  1stFlrSF  \\\n",
       "592          60.0            5         0.0          0          816       816   \n",
       "596          60.0            6         0.0        684          684       684   \n",
       "537           NaN            4         0.0        264          864       864   \n",
       "934         313.0            7         0.0        160          585      2069   \n",
       "724          86.0            9       340.0        464         1698      1698   \n",
       "521          90.0            6         0.0        467         1244      1244   \n",
       "1175         85.0            8       337.0        983         1683      2129   \n",
       "286          77.0            6         0.0        312          912      1085   \n",
       "881          44.0            7       117.0        254         1156      1187   \n",
       "344          36.0            5         0.0        175          536       536   \n",
       "\n",
       "      GrLivArea  GarageYrBlt  WoodDeckSF  LotFrontage_median  \\\n",
       "592         816       1985.0           0                60.0   \n",
       "596        1368       1930.0           0                60.0   \n",
       "537         864       1980.0         216                69.0   \n",
       "934        2069       1960.0           0               313.0   \n",
       "724        1698       2007.0         327                86.0   \n",
       "521        1244       1957.0           0                90.0   \n",
       "1175       2872       1992.0           0                85.0   \n",
       "286        1734       1962.0           0                77.0   \n",
       "881        1717       1990.0         168                44.0   \n",
       "344        1112       1976.0         182                36.0   \n",
       "\n",
       "      MasVnrArea_median  GarageYrBlt_median  \n",
       "592                 0.0              1985.0  \n",
       "596                 0.0              1930.0  \n",
       "537                 0.0              1980.0  \n",
       "934                 0.0              1960.0  \n",
       "724               340.0              2007.0  \n",
       "521                 0.0              1957.0  \n",
       "1175              337.0              1992.0  \n",
       "286                 0.0              1962.0  \n",
       "881               117.0              1990.0  \n",
       "344                 0.0              1976.0  "
      ]
     },
     "execution_count": 65,
     "metadata": {},
     "output_type": "execute_result"
    }
   ],
   "source": [
    "X_train.sample(10)"
   ]
  },
  {
   "cell_type": "markdown",
   "id": "6bad3162",
   "metadata": {},
   "source": [
    "### Plotting the effect of imputation on distribution of NA columns"
   ]
  },
  {
   "cell_type": "code",
   "execution_count": 81,
   "id": "6e3358af",
   "metadata": {
    "scrolled": false
   },
   "outputs": [
    {
     "name": "stderr",
     "output_type": "stream",
     "text": [
      "C:\\Users\\abhid\\anaconda3\\Lib\\site-packages\\seaborn\\_oldcore.py:1119: FutureWarning: use_inf_as_na option is deprecated and will be removed in a future version. Convert inf values to NaN before operating instead.\n",
      "  with pd.option_context('mode.use_inf_as_na', True):\n",
      "C:\\Users\\abhid\\anaconda3\\Lib\\site-packages\\seaborn\\_oldcore.py:1119: FutureWarning: use_inf_as_na option is deprecated and will be removed in a future version. Convert inf values to NaN before operating instead.\n",
      "  with pd.option_context('mode.use_inf_as_na', True):\n",
      "C:\\Users\\abhid\\anaconda3\\Lib\\site-packages\\seaborn\\_oldcore.py:1119: FutureWarning: use_inf_as_na option is deprecated and will be removed in a future version. Convert inf values to NaN before operating instead.\n",
      "  with pd.option_context('mode.use_inf_as_na', True):\n",
      "C:\\Users\\abhid\\anaconda3\\Lib\\site-packages\\seaborn\\_oldcore.py:1119: FutureWarning: use_inf_as_na option is deprecated and will be removed in a future version. Convert inf values to NaN before operating instead.\n",
      "  with pd.option_context('mode.use_inf_as_na', True):\n",
      "C:\\Users\\abhid\\anaconda3\\Lib\\site-packages\\seaborn\\_oldcore.py:1119: FutureWarning: use_inf_as_na option is deprecated and will be removed in a future version. Convert inf values to NaN before operating instead.\n",
      "  with pd.option_context('mode.use_inf_as_na', True):\n",
      "C:\\Users\\abhid\\anaconda3\\Lib\\site-packages\\seaborn\\_oldcore.py:1119: FutureWarning: use_inf_as_na option is deprecated and will be removed in a future version. Convert inf values to NaN before operating instead.\n",
      "  with pd.option_context('mode.use_inf_as_na', True):\n"
     ]
    },
    {
     "data": {
      "image/png": "[encoded data removed]",
      "text/plain": [
       "<Figure size 1200x400 with 3 Axes>"
      ]
     },
     "metadata": {},
     "output_type": "display_data"
    }
   ],
   "source": [
    "fig,ax = plt.subplots(1,3,figsize = (12,4))\n",
    "\n",
    "for i in range(3):\n",
    "    sns.kdeplot(X_train[na_cols[i]],ax = ax[i], c='r', lw=3,label = 'original')\n",
    "    sns.kdeplot(X_train[f'{na_cols[i]}_median'],ax = ax[i], label = 'median_imputed')\n",
    "    ax[i].legend()"
   ]
  },
  {
   "cell_type": "markdown",
   "id": "67b89719",
   "metadata": {},
   "source": [
    "Observations:  \n",
    "    1) LotFrontage and GarageYrBlt shows significant distortions due to higher nos of nulls  \n",
    "    2) MasVnrArea had very small (0.5% only) and shows negligible deviation."
   ]
  },
  {
   "cell_type": "markdown",
   "id": "62004c70",
   "metadata": {},
   "source": [
    "### Effect on Variance"
   ]
  },
  {
   "cell_type": "code",
   "execution_count": 84,
   "id": "6b362944",
   "metadata": {},
   "outputs": [
    {
     "name": "stdout",
     "output_type": "stream",
     "text": [
      "LotFrontage\n",
      "\n",
      "Original Variance =  609.0\n",
      "Variance after median imputation 498.0\n",
      "------------------------------------------------------------\n",
      "MasVnrArea\n",
      "\n",
      "Original Variance =  30524.0\n",
      "Variance after median imputation 30386.0\n",
      "------------------------------------------------------------\n",
      "GarageYrBlt\n",
      "\n",
      "Original Variance =  605.0\n",
      "Variance after median imputation 570.0\n",
      "------------------------------------------------------------\n"
     ]
    }
   ],
   "source": [
    "for col in na_cols:\n",
    "    print(col)\n",
    "    print()\n",
    "    print('Original Variance = ',np.round(X_train[col].var()))\n",
    "    print('Variance after median imputation', np.round(X_train[f'{col}_median'].var()))\n",
    "    print('--'*30)\n",
    "    "
   ]
  },
  {
   "cell_type": "markdown",
   "id": "516ff108",
   "metadata": {},
   "source": [
    "As expected variance reduced due to imputation with central tendency as more values are centred."
   ]
  },
  {
   "cell_type": "code",
   "execution_count": null,
   "id": "c453f4d2",
   "metadata": {},
   "outputs": [],
   "source": []
  }
 ],
 "metadata": {
  "kernelspec": {
   "display_name": "Python 3 (ipykernel)",
   "language": "python",
   "name": "python3"
  },
  "language_info": {
   "codemirror_mode": {
    "name": "ipython",
    "version": 3
   },
   "file_extension": ".py",
   "mimetype": "text/x-python",
   "name": "python",
   "nbconvert_exporter": "python",
   "pygments_lexer": "ipython3",
   "version": "3.11.4"
  }
 },
 "nbformat": 4,
 "nbformat_minor": 5
}
